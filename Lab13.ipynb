{
 "cells": [
  {
   "cell_type": "markdown",
   "metadata": {},
   "source": [
    "# RDBMS and SQL"
   ]
  },
  {
   "cell_type": "markdown",
   "metadata": {},
   "source": [
    "Complete the tasks listed below. You can submit the completed lab until 11:59 PM in the night."
   ]
  },
  {
   "cell_type": "markdown",
   "metadata": {},
   "source": [
    "<u>Requirement:</u><br>\n",
    "Do your best to write Pythonic code instead of the traditional programming code."
   ]
  },
  {
   "cell_type": "markdown",
   "metadata": {},
   "source": [
    "### Task 1 (2 marks)\n",
    "\n",
    "Connect to the supplied database __petsDB__, and write a function named __is_open__ to check if the connection is open or closed. The function, when called, should return either True or False depending upon whether the connection to the database is open or closed. The output in the two cases should look as follows:"
   ]
  },
  {
   "cell_type": "markdown",
   "metadata": {
    "slideshow": {
     "slide_type": "fragment"
    }
   },
   "source": [
    "True\n",
    "\n",
    "Connection closed. Cannot operate on a closed database.<br>False"
   ]
  },
  {
   "cell_type": "markdown",
   "metadata": {},
   "source": [
    "<u>Hint:</u> Use __try__ and __except__ along with the exception error `sqlite3.ProgrammingError` in conjunction with __except__."
   ]
  },
  {
   "cell_type": "code",
   "execution_count": 1,
   "metadata": {},
   "outputs": [],
   "source": [
    "### Write your code below this comment."
   ]
  },
  {
   "cell_type": "markdown",
   "metadata": {},
   "source": [
    "### Task 2 (2 marks)\n",
    "\n",
    "Now connect to the provided database __petsDB__ once again and retrieve the names of all the tables from the database as a list of tuples. Also retrieve the column names for all the tables as a list of strings. The outputs should look as follows respectively:"
   ]
  },
  {
   "cell_type": "markdown",
   "metadata": {
    "slideshow": {
     "slide_type": "fragment"
    }
   },
   "source": [
    "    The names of the tables in the database are as follows:\n",
    "\n",
    "    [('persons',), ('pets',)]\n",
    "\n",
    "    The names of the columns in the table 'persons' are as follows:\n",
    "\n",
    "    ['Id', 'First Name', 'Last Name', 'Age', 'City', 'Zip Code']:\n",
    "\n",
    "    The first 5 rows in the table 'persons' are as follows:\n",
    "    \n",
    "    [(1, 'Erica', None, 22, 'south port', 2345678),\n",
    "     (2, 'Jordi', None, 73, 'east port', 123456),\n",
    "     (3, 'Chasity', None, 70, 'new port', 76856785),\n",
    "     (4, 'Gregg', None, 31, 'new port', 76856785),\n",
    "     (5, 'Tony', 'Lindgren', 7, 'west port', 2345678)]\n",
    "     \n",
    "    The names of the columns in the table 'pets' are as follows:\n",
    "\n",
    "    ['Owner Id', 'Pet Name', 'Pet Type', 'Treatment Done']:\n",
    "\n",
    "    The first 5 rows in the table 'pets' are as follows:\n",
    "    \n",
    "    [(57, 'mani', 1.0, 0),\n",
    "     (80, 'tamari', None, 0),\n",
    "     (25, 'raba', None, 0),\n",
    "     (27, 'olga', None, 0),\n",
    "     (60, 'raba', None, 0)]"
   ]
  },
  {
   "cell_type": "markdown",
   "metadata": {},
   "source": [
    "<u>Hint:</u> Use __sqlite_master WHERE__ ... You would also need to use list comprehension along with the string __join__ method and __map__ function so that the names of columns ('Id', 'First Name' etc) are in title case and separated by a space instead of lower case and separated by hyphens (which is the case with the names coming from the database)."
   ]
  },
  {
   "cell_type": "code",
   "execution_count": 2,
   "metadata": {},
   "outputs": [],
   "source": [
    "### Write your code below this comment."
   ]
  },
  {
   "cell_type": "markdown",
   "metadata": {},
   "source": [
    "### Task 3 (2 marks)\n",
    "\n",
    "Now transform the tables __persons__ and __pets__ into two Dataframes named __df_persons__ and __df_pets__ respectively, so that you can go ahead with the tasks to follow."
   ]
  },
  {
   "cell_type": "code",
   "execution_count": 3,
   "metadata": {},
   "outputs": [],
   "source": [
    "### Write your code below this comment."
   ]
  },
  {
   "cell_type": "markdown",
   "metadata": {},
   "source": [
    "### Task 4 (2 marks)\n",
    "\n",
    "Consider the following question:\n",
    "\n",
    "__What are counts for each unique age group in the persons database?__\n",
    "\n",
    "Answer this question using a SQL query from the database (save it as __sql_4__) as well as using the Dataframe __df_persons__ you created in Task 3 above.\n",
    "\n",
    "The SQL query should return a list of tuples named __rows__ which you should then use to create a Dataframe named __df_sql__ with an index column named `'Age'` and another column named `'Counts'`. The Dataframe should look as follows:"
   ]
  },
  {
   "cell_type": "markdown",
   "metadata": {
    "slideshow": {
     "slide_type": "fragment"
    }
   },
   "source": [
    "<img align=left src=\"images/df_sql_res4.png\" height=\"105\" width=\"105\">"
   ]
  },
  {
   "cell_type": "markdown",
   "metadata": {},
   "source": [
    "Similarly, also use methods from __pandas__ in conjunction with the Dataframe __df_persons__ to mimic your SQL query and create another Dataframe named __df_pd__ which looks exactly the same as the Dataframe __df_sql__ shown above."
   ]
  },
  {
   "cell_type": "code",
   "execution_count": 4,
   "metadata": {},
   "outputs": [],
   "source": [
    "### Write your code below this comment."
   ]
  },
  {
   "cell_type": "markdown",
   "metadata": {},
   "source": [
    "Now answer the following question:\n",
    "\n",
    "What similarities / differences did you find between the SQL query you wrote and saved as __sql_4__ and the code you used to create the Dataframe __df_pd__?"
   ]
  },
  {
   "cell_type": "markdown",
   "metadata": {},
   "source": [
    "__Answer__: What I found similar / different was ..."
   ]
  },
  {
   "cell_type": "markdown",
   "metadata": {},
   "source": [
    "### Task 5 (2 marks)\n",
    "\n",
    "Consider the following question:\n",
    "\n",
    "__How many pets are there from the city called \"east port\"?__\n",
    "\n",
    "Answer this question using a SQL query from the database (save it as __sql_5__). Also use methods from __pandas__ in conjunction with the Dataframes __df_persons__ and __df_pets__ you created in Task 3 above to mimic your SQL query. Save the joined Dataframe as __df_pd_join__.\n",
    "\n",
    "In both cases, the output is a number."
   ]
  },
  {
   "cell_type": "code",
   "execution_count": 5,
   "metadata": {},
   "outputs": [],
   "source": [
    "### Write your code below this comment."
   ]
  },
  {
   "cell_type": "markdown",
   "metadata": {},
   "source": [
    "Now answer the following question:\n",
    "\n",
    "What similarities / differences did you find between the SQL query you wrote and saved as __sql_5__ and the code you used to create the Dataframe __df_pd_join__?"
   ]
  },
  {
   "cell_type": "markdown",
   "metadata": {},
   "source": [
    "__Answer__: What I found similar / different was ..."
   ]
  }
 ],
 "metadata": {
  "kernelspec": {
   "display_name": "Python 3",
   "language": "python",
   "name": "python3"
  },
  "language_info": {
   "codemirror_mode": {
    "name": "ipython",
    "version": 3
   },
   "file_extension": ".py",
   "mimetype": "text/x-python",
   "name": "python",
   "nbconvert_exporter": "python",
   "pygments_lexer": "ipython3",
   "version": "3.8.3"
  }
 },
 "nbformat": 4,
 "nbformat_minor": 2
}
