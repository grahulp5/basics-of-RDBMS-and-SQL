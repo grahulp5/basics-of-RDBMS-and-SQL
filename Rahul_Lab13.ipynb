{
  "cells": [
    {
      "cell_type": "markdown",
      "metadata": {
        "id": "ePGp7Jq_2OP_"
      },
      "source": [
        "# RDBMS and SQL"
      ]
    },
    {
      "cell_type": "markdown",
      "metadata": {
        "id": "Zf0ay_gz2OQA"
      },
      "source": [
        "Complete the tasks listed below. You can submit the completed lab until 11:59 PM in the night."
      ]
    },
    {
      "cell_type": "markdown",
      "metadata": {
        "id": "LqiR-odD2OQB"
      },
      "source": [
        "<u>Requirement:</u><br>\n",
        "Do your best to write Pythonic code instead of the traditional programming code."
      ]
    },
    {
      "cell_type": "markdown",
      "metadata": {
        "id": "FW52k4j92OQB"
      },
      "source": [
        "### Task 1 (2 marks)\n",
        "\n",
        "Connect to the supplied database __petsDB__, and write a function named __is_open__ to check if the connection is open or closed. The function, when called, should return either True or False depending upon whether the connection to the database is open or closed. The output in the two cases should look as follows:"
      ]
    },
    {
      "cell_type": "markdown",
      "metadata": {
        "id": "TtxoJB8g2OQB"
      },
      "source": [
        "True\n",
        "\n",
        "Connection closed. Cannot operate on a closed database.<br>False"
      ]
    },
    {
      "cell_type": "markdown",
      "metadata": {
        "id": "p9eAe92J2OQB"
      },
      "source": [
        "<u>Hint:</u> Use __try__ and __except__ along with the exception error `sqlite3.ProgrammingError` in conjunction with __except__."
      ]
    },
    {
      "cell_type": "code",
      "execution_count": 4,
      "metadata": {
        "colab": {
          "base_uri": "https://localhost:8080/"
        },
        "id": "NB-mv2av2OQB",
        "outputId": "d59e4d3c-f382-4bcb-f03e-728b879c116e"
      },
      "outputs": [
        {
          "output_type": "stream",
          "name": "stdout",
          "text": [
            "True\n"
          ]
        }
      ],
      "source": [
        "import sqlite3\n",
        "\n",
        "\n",
        "def connect_to_database(database_name):\n",
        "    try:\n",
        "        connection = sqlite3.connect(database_name)\n",
        "        return connection\n",
        "    except sqlite3.Error as e:\n",
        "        print(f\"Error connecting to the database: {e}\")\n",
        "        return None\n",
        "\n",
        "\n",
        "def is_open(connection):\n",
        "    try:\n",
        "\n",
        "        connection.execute(\"SELECT 1\")\n",
        "        return True\n",
        "    except sqlite3.ProgrammingError:\n",
        "\n",
        "        print(\"Connection closed. Cannot operate on a closed database.\")\n",
        "        return False\n",
        "\n",
        "\n",
        "database_name = \"/content/petsdb\"\n",
        "connection = connect_to_database(database_name)\n",
        "\n",
        "if connection:\n",
        "\n",
        "    result = is_open(connection)\n",
        "    print(result)\n",
        "\n",
        "\n",
        "    connection.close()\n",
        "else:\n",
        "    print(\"Connection to the database failed.\")\n"
      ]
    },
    {
      "cell_type": "markdown",
      "metadata": {
        "id": "TtGEg3ar2OQC"
      },
      "source": [
        "### Task 2 (2 marks)\n",
        "\n",
        "Now connect to the provided database __petsDB__ once again and retrieve the names of all the tables from the database as a list of tuples. Also retrieve the column names for all the tables as a list of strings. The outputs should look as follows respectively:"
      ]
    },
    {
      "cell_type": "markdown",
      "metadata": {
        "id": "XqY3yf7W2OQC"
      },
      "source": [
        "    The names of the tables in the database are as follows:\n",
        "\n",
        "    [('persons',), ('pets',)]\n",
        "\n",
        "    The names of the columns in the table 'persons' are as follows:\n",
        "\n",
        "    ['Id', 'First Name', 'Last Name', 'Age', 'City', 'Zip Code']:\n",
        "\n",
        "    The first 5 rows in the table 'persons' are as follows:\n",
        "    \n",
        "    [(1, 'Erica', None, 22, 'south port', 2345678),\n",
        "     (2, 'Jordi', None, 73, 'east port', 123456),\n",
        "     (3, 'Chasity', None, 70, 'new port', 76856785),\n",
        "     (4, 'Gregg', None, 31, 'new port', 76856785),\n",
        "     (5, 'Tony', 'Lindgren', 7, 'west port', 2345678)]\n",
        "     \n",
        "    The names of the columns in the table 'pets' are as follows:\n",
        "\n",
        "    ['Owner Id', 'Pet Name', 'Pet Type', 'Treatment Done']:\n",
        "\n",
        "    The first 5 rows in the table 'pets' are as follows:\n",
        "    \n",
        "    [(57, 'mani', 1.0, 0),\n",
        "     (80, 'tamari', None, 0),\n",
        "     (25, 'raba', None, 0),\n",
        "     (27, 'olga', None, 0),\n",
        "     (60, 'raba', None, 0)]"
      ]
    },
    {
      "cell_type": "markdown",
      "metadata": {
        "id": "xwuIhxGd2OQC"
      },
      "source": [
        "<u>Hint:</u> Use __sqlite_master WHERE__ ... You would also need to use list comprehension along with the string __join__ method and __map__ function so that the names of columns ('Id', 'First Name' etc) are in title case and separated by a space instead of lower case and separated by hyphens (which is the case with the names coming from the database)."
      ]
    },
    {
      "cell_type": "code",
      "execution_count": 8,
      "metadata": {
        "colab": {
          "base_uri": "https://localhost:8080/"
        },
        "id": "hx59fHWp2OQC",
        "outputId": "ccd3c82c-2bb1-4de1-af5c-e40eed21fb6f"
      },
      "outputs": [
        {
          "output_type": "stream",
          "name": "stdout",
          "text": [
            "The names of the tables in the database are as follows:\n",
            "[('persons',), ('pets',)]\n",
            "\n",
            "The names of the columns in the table 'persons' are as follows:\n",
            "['Id', 'First Name', 'Last Name', 'Age', 'City', 'Zip Code']\n",
            "\n",
            "The first 5 rows in the table 'persons' are as follows:\n",
            "(1, 'Erica', None, 22, 'south port', 2345678)\n",
            "(2, 'Jordi', None, 73, 'east port', 123456)\n",
            "(3, 'Chasity', None, 70, 'new port', 76856785)\n",
            "(4, 'Gregg', None, 31, 'new port', 76856785)\n",
            "(5, 'Tony', 'Lindgren', 7, 'west port', 2345678)\n",
            "\n",
            "The names of the columns in the table 'pets' are as follows:\n",
            "['Owner Id', 'Pet Name', 'Pet Type', 'Treatment Done']\n",
            "\n",
            "The first 5 rows in the table 'pets' are as follows:\n",
            "(57, 'mani', 1.0, 0)\n",
            "(80, 'tamari', None, 0)\n",
            "(25, 'raba', None, 0)\n",
            "(27, 'olga', None, 0)\n",
            "(60, 'raba', None, 0)\n"
          ]
        }
      ],
      "source": [
        "import sqlite3\n",
        "\n",
        "def connect_to_database(database_path):\n",
        "    try:\n",
        "        connection = sqlite3.connect(database_path)\n",
        "        return connection\n",
        "    except sqlite3.Error as e:\n",
        "        print(f\"Error connecting to the database: {e}\")\n",
        "        return None\n",
        "\n",
        "\n",
        "def get_table_names(connection):\n",
        "    cursor = connection.cursor()\n",
        "    cursor.execute(\"SELECT name FROM sqlite_master WHERE type='table';\")\n",
        "    tables = cursor.fetchall()\n",
        "    return tables\n",
        "\n",
        "\n",
        "def get_column_names(connection, table_name):\n",
        "    cursor = connection.cursor()\n",
        "    cursor.execute(f\"PRAGMA table_info({table_name});\")\n",
        "    columns = cursor.fetchall()\n",
        "    column_names = [column[1].replace('_', ' ').title() for column in columns]\n",
        "    return column_names\n",
        "\n",
        "\n",
        "def get_first_five_rows(connection, table_name):\n",
        "    cursor = connection.cursor()\n",
        "    cursor.execute(f\"SELECT * FROM {table_name} LIMIT 5;\")\n",
        "    rows = cursor.fetchall()\n",
        "    return rows\n",
        "\n",
        "\n",
        "database_path = \"/content/petsdb\"\n",
        "connection = connect_to_database(database_path)\n",
        "\n",
        "if connection:\n",
        "\n",
        "    tables = get_table_names(connection)\n",
        "    print(\"The names of the tables in the database are as follows:\")\n",
        "    print(tables)\n",
        "\n",
        "    for table in tables:\n",
        "        table_name = table[0]\n",
        "\n",
        "\n",
        "        column_names = get_column_names(connection, table_name)\n",
        "        print(f\"\\nThe names of the columns in the table '{table_name}' are as follows:\")\n",
        "        print(column_names)\n",
        "\n",
        "\n",
        "        first_five_rows = get_first_five_rows(connection, table_name)\n",
        "        print(f\"\\nThe first 5 rows in the table '{table_name}' are as follows:\")\n",
        "        for row in first_five_rows:\n",
        "            print(row)\n",
        "\n",
        "\n",
        "    connection.close()\n",
        "else:\n",
        "    print(\"Connection to the database failed.\")\n"
      ]
    },
    {
      "cell_type": "markdown",
      "metadata": {
        "id": "7Ik_zUIf2OQD"
      },
      "source": [
        "### Task 3 (2 marks)\n",
        "\n",
        "Now transform the tables __persons__ and __pets__ into two Dataframes named __df_persons__ and __df_pets__ respectively, so that you can go ahead with the tasks to follow."
      ]
    },
    {
      "cell_type": "code",
      "execution_count": 10,
      "metadata": {
        "colab": {
          "base_uri": "https://localhost:8080/"
        },
        "id": "H8A8BvFj2OQD",
        "outputId": "f05b0abf-6bf6-4ad5-f416-410757040a68"
      },
      "outputs": [
        {
          "output_type": "stream",
          "name": "stdout",
          "text": [
            "DataFrame for 'persons' table:\n",
            "     id first_name last_name  age        city  zip_code\n",
            "0     1      Erica      None   22  south port   2345678\n",
            "1     2      Jordi      None   73   east port    123456\n",
            "2     3    Chasity      None   70    new port  76856785\n",
            "3     4      Gregg      None   31    new port  76856785\n",
            "4     5       Tony  Lindgren    7   west port   2345678\n",
            "..  ...        ...       ...  ...         ...       ...\n",
            "95   96    Ernesto      None   69   east port   9756543\n",
            "96   97   Josianne      None   14   west port  76856785\n",
            "97   98      Hilma   Waelchi   48   east port   9756543\n",
            "98   99     Otilia   Gleason   66    new port   9756543\n",
            "99  100     Adrian  Schinner    5  south port  76856785\n",
            "\n",
            "[100 rows x 6 columns]\n",
            "\n",
            "DataFrame for 'pets' table:\n",
            "     owner_id pet_name  pet_type  treatment_done\n",
            "0          57     mani       1.0               0\n",
            "1          80   tamari       NaN               0\n",
            "2          25     raba       NaN               0\n",
            "3          27     olga       NaN               0\n",
            "4          60     raba       NaN               0\n",
            "..        ...      ...       ...             ...\n",
            "145        86    fenga       1.0               0\n",
            "146        87     palu       1.0               0\n",
            "147        26   snoopy       1.0               0\n",
            "148        36     nani       1.0               0\n",
            "149        22     helu       1.0               1\n",
            "\n",
            "[150 rows x 4 columns]\n"
          ]
        }
      ],
      "source": [
        "import sqlite3\n",
        "import pandas as pd\n",
        "\n",
        "\n",
        "def connect_to_database(database_path):\n",
        "    try:\n",
        "        connection = sqlite3.connect(database_path)\n",
        "        return connection\n",
        "    except sqlite3.Error as e:\n",
        "        print(f\"Error connecting to the database: {e}\")\n",
        "        return None\n",
        "\n",
        "\n",
        "def get_table_as_dataframe(connection, table_name):\n",
        "    query = f\"SELECT * FROM {table_name};\"\n",
        "    df = pd.read_sql_query(query, connection)\n",
        "    return df\n",
        "\n",
        "\n",
        "database_path = \"/content/petsdb\"\n",
        "connection = connect_to_database(database_path)\n",
        "\n",
        "if connection:\n",
        "\n",
        "    df_persons = get_table_as_dataframe(connection, 'persons')\n",
        "    print(\"DataFrame for 'persons' table:\")\n",
        "    print(df_persons)\n",
        "\n",
        "\n",
        "    df_pets = get_table_as_dataframe(connection, 'pets')\n",
        "    print(\"\\nDataFrame for 'pets' table:\")\n",
        "    print(df_pets)\n",
        "\n",
        "\n",
        "    connection.close()\n",
        "else:\n",
        "    print(\"Connection to the database failed.\")\n"
      ]
    },
    {
      "cell_type": "markdown",
      "metadata": {
        "id": "DgTgd4I62OQD"
      },
      "source": [
        "### Task 4 (2 marks)\n",
        "\n",
        "Consider the following question:\n",
        "\n",
        "__What are counts for each unique age group in the persons database?__\n",
        "\n",
        "Answer this question using a SQL query from the database (save it as __sql_4__) as well as using the Dataframe __df_persons__ you created in Task 3 above.\n",
        "\n",
        "The SQL query should return a list of tuples named __rows__ which you should then use to create a Dataframe named __df_sql__ with an index column named `'Age'` and another column named `'Counts'`. The Dataframe should look as follows:"
      ]
    },
    {
      "cell_type": "markdown",
      "metadata": {
        "id": "IZL1vBS-2OQD"
      },
      "source": [
        "<img align=left src=\"images/df_sql_res4.png\" height=\"105\" width=\"105\">"
      ]
    },
    {
      "cell_type": "markdown",
      "metadata": {
        "id": "eoUVZyxo2OQD"
      },
      "source": [
        "Similarly, also use methods from __pandas__ in conjunction with the Dataframe __df_persons__ to mimic your SQL query and create another Dataframe named __df_pd__ which looks exactly the same as the Dataframe __df_sql__ shown above."
      ]
    },
    {
      "cell_type": "code",
      "execution_count": 14,
      "metadata": {
        "colab": {
          "base_uri": "https://localhost:8080/"
        },
        "id": "2GtVSM9k2OQD",
        "outputId": "acb8fc4e-f19a-4b74-94aa-36775cdbdb49"
      },
      "outputs": [
        {
          "output_type": "stream",
          "name": "stdout",
          "text": [
            "DataFrame df_sql:\n",
            "     Counts\n",
            "Age        \n",
            "5         2\n",
            "6         1\n",
            "7         1\n",
            "8         3\n",
            "9         1\n",
            "\n",
            "DataFrame df_pd:\n",
            "     Counts\n",
            "Age        \n",
            "5         2\n",
            "6         1\n",
            "7         1\n",
            "8         3\n",
            "9         1\n"
          ]
        }
      ],
      "source": [
        "import sqlite3\n",
        "import pandas as pd\n",
        "\n",
        "\n",
        "def connect_to_database(database_path):\n",
        "    try:\n",
        "        connection = sqlite3.connect(database_path)\n",
        "        return connection\n",
        "    except sqlite3.Error as e:\n",
        "        print(f\"Error connecting to the database: {e}\")\n",
        "        return None\n",
        "\n",
        "\n",
        "def get_table_as_dataframe(connection, table_name):\n",
        "    if table_exists(connection, table_name):\n",
        "        query = f\"SELECT * FROM {table_name};\"\n",
        "        df = pd.read_sql_query(query, connection)\n",
        "        return df\n",
        "    else:\n",
        "        print(f\"Table '{table_name}' does not exist in the database.\")\n",
        "        return None\n",
        "\n",
        "def table_exists(connection, table_name):\n",
        "    cursor = connection.cursor()\n",
        "    cursor.execute(f\"SELECT name FROM sqlite_master WHERE type='table' AND name='{table_name}';\")\n",
        "    return cursor.fetchone() is not None\n",
        "\n",
        "database_path = \"/content/petsdb\"\n",
        "connection = connect_to_database(database_path)\n",
        "\n",
        "if connection:\n",
        "    df_persons = get_table_as_dataframe(connection, 'persons')\n",
        "    if df_persons is not None:\n",
        "        sql_query = \"SELECT Age, COUNT(*) AS Counts FROM persons GROUP BY Age ORDER BY Age;\"\n",
        "        rows = connection.execute(sql_query).fetchall()\n",
        "\n",
        "        df_sql = pd.DataFrame(rows, columns=['Age', 'Counts'])\n",
        "        df_sql.set_index('Age', inplace=True)\n",
        "\n",
        "        print(\"DataFrame df_sql:\")\n",
        "        print(df_sql.head(5))\n",
        "\n",
        "        df_pd = df_persons['age'].value_counts().sort_index().reset_index()\n",
        "        df_pd.columns = ['Age', 'Counts']\n",
        "        df_pd.set_index('Age', inplace=True)\n",
        "\n",
        "        print(\"\\nDataFrame df_pd:\")\n",
        "        print(df_pd.head(5))\n",
        "\n",
        "    connection.close()\n",
        "else:\n",
        "    print(\"Connection to the database failed.\")\n"
      ]
    },
    {
      "cell_type": "markdown",
      "metadata": {
        "id": "nNapZdqw2OQD"
      },
      "source": [
        "Now answer the following question:\n",
        "\n",
        "What similarities / differences did you find between the SQL query you wrote and saved as __sql_4__ and the code you used to create the Dataframe __df_pd__?"
      ]
    },
    {
      "cell_type": "markdown",
      "metadata": {
        "id": "s75ybb9J2OQD"
      },
      "source": [
        "__Answer__: What I found similar / different was ...\n",
        "both SQL and pd query finds the counts but SQL uses COUNT (*) whereas pd uses value_counts to get the same output."
      ]
    },
    {
      "cell_type": "markdown",
      "metadata": {
        "id": "QGeSUBOq2OQD"
      },
      "source": [
        "### Task 5 (2 marks)\n",
        "\n",
        "Consider the following question:\n",
        "\n",
        "__How many pets are there from the city called \"east port\"?__\n",
        "\n",
        "Answer this question using a SQL query from the database (save it as __sql_5__). Also use methods from __pandas__ in conjunction with the Dataframes __df_persons__ and __df_pets__ you created in Task 3 above to mimic your SQL query. Save the joined Dataframe as __df_pd_join__.\n",
        "\n",
        "In both cases, the output is a number."
      ]
    },
    {
      "cell_type": "code",
      "execution_count": 27,
      "metadata": {
        "colab": {
          "base_uri": "https://localhost:8080/"
        },
        "id": "msYqwZPk2OQD",
        "outputId": "ad88678a-edef-46fa-ae05-573674ece7f0"
      },
      "outputs": [
        {
          "output_type": "stream",
          "name": "stdout",
          "text": [
            "Result from SQL query (sql_5): 49\n",
            "Result from pandas join (df_pd_join): 49\n"
          ]
        }
      ],
      "source": [
        "import sqlite3\n",
        "import pandas as pd\n",
        "\n",
        "\n",
        "def connect_to_database(database_path):\n",
        "    try:\n",
        "        connection = sqlite3.connect(database_path)\n",
        "        return connection\n",
        "    except sqlite3.Error as e:\n",
        "        print(f\"Error connecting to the database: {e}\")\n",
        "        return None\n",
        "\n",
        "\n",
        "def get_table_as_dataframe(connection, table_name):\n",
        "    if table_exists(connection, table_name):\n",
        "        query = f\"SELECT * FROM {table_name};\"\n",
        "        df = pd.read_sql_query(query, connection)\n",
        "        return df\n",
        "    else:\n",
        "        print(f\"Table '{table_name}' does not exist in the database.\")\n",
        "        return None\n",
        "\n",
        "\n",
        "def table_exists(connection, table_name):\n",
        "    cursor = connection.cursor()\n",
        "    cursor.execute(f\"SELECT name FROM sqlite_master WHERE type='table' AND name='{table_name}';\")\n",
        "    return cursor.fetchone() is not None\n",
        "\n",
        "\n",
        "database_path = \"/content/petsdb\"\n",
        "connection = connect_to_database(database_path)\n",
        "\n",
        "if connection:\n",
        "\n",
        "    df_persons = get_table_as_dataframe(connection, 'persons')\n",
        "\n",
        "    df_pets = get_table_as_dataframe(connection, 'pets')\n",
        "\n",
        "    if df_persons is not None and df_pets is not None:\n",
        "\n",
        "        sql_query = \"\"\"\n",
        "        SELECT COUNT(*) FROM pets\n",
        "        JOIN persons ON pets.[owner_id] = persons.Id\n",
        "        WHERE persons.City = 'east port';\n",
        "        \"\"\"\n",
        "        result_sql = connection.execute(sql_query).fetchone()[0]\n",
        "        print(\"Result from SQL query (sql_5):\", result_sql)\n",
        "\n",
        "\n",
        "        df_pd_join = pd.merge(df_pets, df_persons, left_on='owner_id', right_on='id', how='inner')\n",
        "        result_pd = df_pd_join[df_pd_join['city'] == 'east port'].shape[0]\n",
        "        print(\"Result from pandas join (df_pd_join):\", result_pd)\n",
        "\n",
        "\n",
        "    connection.close()\n",
        "else:\n",
        "    print(\"Connection to the database failed.\")\n"
      ]
    },
    {
      "cell_type": "markdown",
      "metadata": {
        "id": "I_2wmxab2OQD"
      },
      "source": [
        "Now answer the following question:\n",
        "\n",
        "What similarities / differences did you find between the SQL query you wrote and saved as __sql_5__ and the code you used to create the Dataframe __df_pd_join__?"
      ]
    },
    {
      "cell_type": "markdown",
      "metadata": {
        "id": "Nu0pBbcO2OQD"
      },
      "source": [
        "__Answer__: What I found similar / different was ...\n",
        "Both the SQL and pandas code to create DataFrame `df_pd_join` aim to determine the number of pets from the city called \"east port.\" The SQL query uses a JOIN & WHERE clause to filter the results, while the pandas dows merging DataFrames and applying a condition. Both has the same output with different approach."
      ]
    }
  ],
  "metadata": {
    "kernelspec": {
      "display_name": "Python 3",
      "language": "python",
      "name": "python3"
    },
    "language_info": {
      "codemirror_mode": {
        "name": "ipython",
        "version": 3
      },
      "file_extension": ".py",
      "mimetype": "text/x-python",
      "name": "python",
      "nbconvert_exporter": "python",
      "pygments_lexer": "ipython3",
      "version": "3.8.3"
    },
    "colab": {
      "provenance": []
    }
  },
  "nbformat": 4,
  "nbformat_minor": 0
}